{
 "cells": [
  {
   "cell_type": "code",
   "execution_count": null,
   "metadata": {},
   "outputs": [],
   "source": []
  }
 ],
 "metadata": {
  "kernelspec": {
   "display_name": "Python 3",
   "language": "python",
   "name": "python3"
  },
  "language_info": {
   "name": "python",
   "version": "3.7.9"
  },
  "orig_nbformat": 4,
  "vscode": {
   "interpreter": {
    "hash": "320f7f0e7f13e50c02d42702e3493ea933ebaafda12c5e421dc80858d11b5e1e"
   }
  }
 },
 "nbformat": 4,
 "nbformat_minor": 2
}
